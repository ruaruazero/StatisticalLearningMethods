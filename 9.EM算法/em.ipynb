{
 "cells": [
  {
   "cell_type": "code",
   "execution_count": 1,
   "metadata": {},
   "outputs": [],
   "source": [
    "import numpy as np"
   ]
  },
  {
   "cell_type": "code",
   "execution_count": 4,
   "metadata": {},
   "outputs": [
    {
     "data": {
      "text/plain": [
       "array([0.24013814, 0.07167224, 0.66380823])"
      ]
     },
     "execution_count": 4,
     "metadata": {},
     "output_type": "execute_result"
    }
   ],
   "source": [
    "np.random.uniform(low=0, high=1, size=3)"
   ]
  },
  {
   "cell_type": "code",
   "execution_count": 44,
   "metadata": {},
   "outputs": [
    {
     "data": {
      "text/plain": [
       "(array([0.93029861, 0.46159661]),\n",
       " array([0.89705003, 0.67523321]),\n",
       " array([[1, 1],\n",
       "        [2, 2],\n",
       "        [3, 3],\n",
       "        [4, 4],\n",
       "        [5, 5],\n",
       "        [6, 6]]))"
      ]
     },
     "execution_count": 44,
     "metadata": {},
     "output_type": "execute_result"
    }
   ],
   "source": [
    "sigma = np.random.uniform(size=2)\n",
    "mu = np.random.uniform(size=2)\n",
    "y = np.array([1, 2, 3, 4, 5, 6]).reshape([-1,1])\n",
    "y = np.concatenate((y, y), axis=1)\n",
    "sigma, mu, y"
   ]
  },
  {
   "cell_type": "code",
   "execution_count": 45,
   "metadata": {},
   "outputs": [
    {
     "data": {
      "text/plain": [
       "array([0.4288325 , 0.86426605])"
      ]
     },
     "execution_count": 45,
     "metadata": {},
     "output_type": "execute_result"
    }
   ],
   "source": [
    "1 / (np.sqrt(2 * np.pi) * sigma)"
   ]
  },
  {
   "cell_type": "code",
   "execution_count": 48,
   "metadata": {},
   "outputs": [
    {
     "data": {
      "text/plain": [
       "array([[4.26214704e-01, 6.74770986e-01],\n",
       "       [2.12354722e-01, 1.40627141e-02],\n",
       "       [3.33184751e-02, 2.68363971e-06],\n",
       "       [1.64625843e-03, 4.68944647e-12],\n",
       "       [2.56153685e-05, 7.50345478e-20],\n",
       "       [1.25514212e-07, 1.09936845e-29]])"
      ]
     },
     "execution_count": 48,
     "metadata": {},
     "output_type": "execute_result"
    }
   ],
   "source": [
    "phi = (1 / (np.sqrt(2 * np.pi) * sigma)) * np.exp((- (y - mu) ** 2) / (2 * sigma ** 2))\n",
    "phi"
   ]
  },
  {
   "cell_type": "code",
   "execution_count": 49,
   "metadata": {},
   "outputs": [],
   "source": [
    "a = np.array([0, 1])"
   ]
  },
  {
   "cell_type": "code",
   "execution_count": 50,
   "metadata": {},
   "outputs": [
    {
     "data": {
      "text/plain": [
       "array([[0.00000000e+00, 6.74770986e-01],\n",
       "       [0.00000000e+00, 1.40627141e-02],\n",
       "       [0.00000000e+00, 2.68363971e-06],\n",
       "       [0.00000000e+00, 4.68944647e-12],\n",
       "       [0.00000000e+00, 7.50345478e-20],\n",
       "       [0.00000000e+00, 1.09936845e-29]])"
      ]
     },
     "execution_count": 50,
     "metadata": {},
     "output_type": "execute_result"
    }
   ],
   "source": [
    "phi * a"
   ]
  },
  {
   "cell_type": "code",
   "execution_count": 57,
   "metadata": {},
   "outputs": [
    {
     "data": {
      "text/plain": [
       "array([[0.00000000e+00, 6.12878980e-01],\n",
       "       [0.00000000e+00, 3.10548392e-02],\n",
       "       [0.00000000e+00, 2.68462023e-05],\n",
       "       [0.00000000e+00, 7.12137045e-10],\n",
       "       [0.00000000e+00, 5.85855697e-16],\n",
       "       [0.00000000e+00, 1.45981935e-23]])"
      ]
     },
     "execution_count": 57,
     "metadata": {},
     "output_type": "execute_result"
    }
   ],
   "source": [
    "phi * a / (phi.sum(axis=1) * np.array([1, 2, 3, 4, 5, 6])).reshape([-1, 1])"
   ]
  },
  {
   "cell_type": "code",
   "execution_count": 60,
   "metadata": {},
   "outputs": [
    {
     "data": {
      "text/plain": [
       "array([0.6735599 , 0.68883638])"
      ]
     },
     "execution_count": 60,
     "metadata": {},
     "output_type": "execute_result"
    }
   ],
   "source": [
    "phi.sum(axis=0)"
   ]
  },
  {
   "cell_type": "code",
   "execution_count": 64,
   "metadata": {},
   "outputs": [],
   "source": [
    "y = np.array([1, 2, 3, 4, 5, 6]).reshape([-1,1])"
   ]
  },
  {
   "cell_type": "code",
   "execution_count": 66,
   "metadata": {},
   "outputs": [
    {
     "data": {
      "text/plain": [
       "array([[4.26214704e-01, 6.74770986e-01],\n",
       "       [2.12354722e-01, 1.40627141e-02],\n",
       "       [3.33184751e-02, 2.68363971e-06],\n",
       "       [1.64625843e-03, 4.68944647e-12],\n",
       "       [2.56153685e-05, 7.50345478e-20],\n",
       "       [1.25514212e-07, 1.09936845e-29]])"
      ]
     },
     "execution_count": 66,
     "metadata": {},
     "output_type": "execute_result"
    }
   ],
   "source": [
    "phi"
   ]
  },
  {
   "cell_type": "code",
   "execution_count": 67,
   "metadata": {},
   "outputs": [
    {
     "data": {
      "text/plain": [
       "array([1.42169009, 1.02042297])"
      ]
     },
     "execution_count": 67,
     "metadata": {},
     "output_type": "execute_result"
    }
   ],
   "source": [
    "(phi * y).sum(axis=0) / phi.sum(axis=0)"
   ]
  },
  {
   "cell_type": "code",
   "execution_count": 70,
   "metadata": {},
   "outputs": [
    {
     "data": {
      "text/plain": [
       "array([[4.26214704e-01, 6.74770986e-01],\n",
       "       [4.24709443e-01, 2.81254282e-02],\n",
       "       [9.99554253e-02, 8.05091912e-06],\n",
       "       [6.58503372e-03, 1.87577859e-11],\n",
       "       [1.28076842e-04, 3.75172739e-19],\n",
       "       [7.53085272e-07, 6.59621070e-29]])"
      ]
     },
     "execution_count": 70,
     "metadata": {},
     "output_type": "execute_result"
    }
   ],
   "source": [
    "phi * y"
   ]
  },
  {
   "cell_type": "code",
   "execution_count": 72,
   "metadata": {},
   "outputs": [
    {
     "data": {
      "text/plain": [
       "array([[1],\n",
       "       [2],\n",
       "       [3],\n",
       "       [4],\n",
       "       [5],\n",
       "       [6]])"
      ]
     },
     "execution_count": 72,
     "metadata": {},
     "output_type": "execute_result"
    }
   ],
   "source": [
    "y"
   ]
  },
  {
   "cell_type": "code",
   "execution_count": 75,
   "metadata": {},
   "outputs": [
    {
     "data": {
      "text/plain": [
       "array([0.89705003, 0.67523321])"
      ]
     },
     "execution_count": 75,
     "metadata": {},
     "output_type": "execute_result"
    }
   ],
   "source": [
    "mu"
   ]
  },
  {
   "cell_type": "code",
   "execution_count": 78,
   "metadata": {},
   "outputs": [
    {
     "data": {
      "text/plain": [
       "array([[4.51732038e-03, 7.11704365e-02],\n",
       "       [2.58329230e-01, 2.46801624e-02],\n",
       "       [1.47347577e-01, 1.45038398e-05],\n",
       "       [1.58506676e-02, 5.18374893e-11],\n",
       "       [4.31214197e-04, 1.40341675e-18],\n",
       "       [3.26840243e-06, 3.11705491e-28]])"
      ]
     },
     "execution_count": 78,
     "metadata": {},
     "output_type": "execute_result"
    }
   ],
   "source": [
    "phi * (y - mu) ** 2"
   ]
  },
  {
   "cell_type": "code",
   "execution_count": 80,
   "metadata": {},
   "outputs": [
    {
     "data": {
      "text/plain": [
       "1.5294330866737194"
      ]
     },
     "execution_count": 80,
     "metadata": {},
     "output_type": "execute_result"
    }
   ],
   "source": [
    "np.linalg.norm(np.concatenate([mu, sigma]))"
   ]
  },
  {
   "cell_type": "code",
   "execution_count": null,
   "metadata": {},
   "outputs": [],
   "source": []
  }
 ],
 "metadata": {
  "kernelspec": {
   "display_name": "base",
   "language": "python",
   "name": "python3"
  },
  "language_info": {
   "codemirror_mode": {
    "name": "ipython",
    "version": 3
   },
   "file_extension": ".py",
   "mimetype": "text/x-python",
   "name": "python",
   "nbconvert_exporter": "python",
   "pygments_lexer": "ipython3",
   "version": "3.12.2"
  }
 },
 "nbformat": 4,
 "nbformat_minor": 2
}
