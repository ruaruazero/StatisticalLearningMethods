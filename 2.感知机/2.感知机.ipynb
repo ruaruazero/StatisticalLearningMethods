{
 "cells": [
  {
   "cell_type": "code",
   "execution_count": 2,
   "metadata": {},
   "outputs": [],
   "source": [
    "import numpy as np\n",
    "from rich.table import Table\n",
    "from rich.console import Console\n",
    "console = Console()"
   ]
  },
  {
   "cell_type": "markdown",
   "metadata": {},
   "source": [
    "### 例2.1\n",
    "正实例点$x_1 = (3,3)^T$, $x_2 = (4,3)^T$, 负实例点$x_3 = (1,1)^T$, 试用感知机学习算法的原始形式求感知机模型$f(x)=sign(w \\cdot x + b)$, 这里, $w=(w^{(1)}, w^{(2)})^T$, $x=(x^{(1)}, x^{(2)})^T$\n"
   ]
  },
  {
   "cell_type": "code",
   "execution_count": 3,
   "metadata": {},
   "outputs": [],
   "source": [
    "def sign(x):\n",
    "    if x >= 0:\n",
    "        return 1\n",
    "    return -1"
   ]
  },
  {
   "cell_type": "code",
   "execution_count": 4,
   "metadata": {},
   "outputs": [],
   "source": [
    "def update(param, grad, eta):\n",
    "    return param - grad * eta"
   ]
  },
  {
   "cell_type": "code",
   "execution_count": 5,
   "metadata": {},
   "outputs": [],
   "source": [
    "x1 = np.array([3, 3]).T\n",
    "x2 = np.array([4, 3]).T\n",
    "x3 = np.array([1, 1]).T\n",
    "y1 = y2 = 1\n",
    "y3 = -1\n",
    "dots = [(x1, y1), (x2, y2), (x3, y3)]"
   ]
  },
  {
   "cell_type": "markdown",
   "metadata": {},
   "source": [
    "初始化 $w$ 和 $b$ 和 $\\eta$"
   ]
  },
  {
   "cell_type": "code",
   "execution_count": 6,
   "metadata": {},
   "outputs": [],
   "source": [
    "w = np.zeros((1,2))\n",
    "b = np.zeros(1)\n",
    "eta = 1"
   ]
  },
  {
   "cell_type": "code",
   "execution_count": 7,
   "metadata": {},
   "outputs": [],
   "source": [
    "def f(x):\n",
    "    return (w * x + b).sum()"
   ]
  },
  {
   "cell_type": "code",
   "execution_count": 8,
   "metadata": {},
   "outputs": [],
   "source": [
    "def L(x, y):\n",
    "    return -y * f(x)"
   ]
  },
  {
   "cell_type": "code",
   "execution_count": 9,
   "metadata": {},
   "outputs": [],
   "source": [
    "def gred(x, y):\n",
    "    return (-y*x, -y)"
   ]
  },
  {
   "cell_type": "code",
   "execution_count": 10,
   "metadata": {},
   "outputs": [],
   "source": [
    "table = Table()\n",
    "table.add_column('迭代次数')\n",
    "table.add_column('误分类点')\n",
    "table.add_column('w')\n",
    "table.add_column('b')"
   ]
  },
  {
   "cell_type": "code",
   "execution_count": 11,
   "metadata": {},
   "outputs": [],
   "source": [
    "i = 1\n",
    "for ind in [0, 2, 2, 2, 0, 2, 2]:\n",
    "    # 预测是否为正\n",
    "    y = f(dots[ind][0])\n",
    "    # 计算损失\n",
    "    l = L(dots[ind][0], dots[ind][1])\n",
    "    # 如果错误分类\n",
    "    if l >= 0:\n",
    "        falut = dots[ind]\n",
    "        g = gred(dots[ind][0], dots[ind][1])\n",
    "        w = update(w, g[0], eta)\n",
    "        b = update(b, g[1], eta)\n",
    "        table.add_row(str(i), str(ind+1), f'({w[0, 1]}, {w[0,1]})', str(b))\n",
    "    i += 1"
   ]
  },
  {
   "cell_type": "code",
   "execution_count": 12,
   "metadata": {},
   "outputs": [
    {
     "data": {
      "text/html": [
       "<pre style=\"white-space:pre;overflow-x:auto;line-height:normal;font-family:Menlo,'DejaVu Sans Mono',consolas,'Courier New',monospace\">┏━━━━━━━━━━┳━━━━━━━━━━┳━━━━━━━━━━━━┳━━━━━━━┓\n",
       "┃<span style=\"font-weight: bold\"> 迭代次数 </span>┃<span style=\"font-weight: bold\"> 误分类点 </span>┃<span style=\"font-weight: bold\"> w          </span>┃<span style=\"font-weight: bold\"> b     </span>┃\n",
       "┡━━━━━━━━━━╇━━━━━━━━━━╇━━━━━━━━━━━━╇━━━━━━━┩\n",
       "│ 1        │ 1        │ (3.0, 3.0) │ [1.]  │\n",
       "│ 2        │ 3        │ (2.0, 2.0) │ [0.]  │\n",
       "│ 3        │ 3        │ (1.0, 1.0) │ [-1.] │\n",
       "│ 4        │ 3        │ (0.0, 0.0) │ [-2.] │\n",
       "│ 5        │ 1        │ (3.0, 3.0) │ [-1.] │\n",
       "│ 6        │ 3        │ (2.0, 2.0) │ [-2.] │\n",
       "│ 7        │ 3        │ (1.0, 1.0) │ [-3.] │\n",
       "└──────────┴──────────┴────────────┴───────┘\n",
       "</pre>\n"
      ],
      "text/plain": [
       "┏━━━━━━━━━━┳━━━━━━━━━━┳━━━━━━━━━━━━┳━━━━━━━┓\n",
       "┃\u001b[1m \u001b[0m\u001b[1m迭代次数\u001b[0m\u001b[1m \u001b[0m┃\u001b[1m \u001b[0m\u001b[1m误分类点\u001b[0m\u001b[1m \u001b[0m┃\u001b[1m \u001b[0m\u001b[1mw         \u001b[0m\u001b[1m \u001b[0m┃\u001b[1m \u001b[0m\u001b[1mb    \u001b[0m\u001b[1m \u001b[0m┃\n",
       "┡━━━━━━━━━━╇━━━━━━━━━━╇━━━━━━━━━━━━╇━━━━━━━┩\n",
       "│ 1        │ 1        │ (3.0, 3.0) │ [1.]  │\n",
       "│ 2        │ 3        │ (2.0, 2.0) │ [0.]  │\n",
       "│ 3        │ 3        │ (1.0, 1.0) │ [-1.] │\n",
       "│ 4        │ 3        │ (0.0, 0.0) │ [-2.] │\n",
       "│ 5        │ 1        │ (3.0, 3.0) │ [-1.] │\n",
       "│ 6        │ 3        │ (2.0, 2.0) │ [-2.] │\n",
       "│ 7        │ 3        │ (1.0, 1.0) │ [-3.] │\n",
       "└──────────┴──────────┴────────────┴───────┘\n"
      ]
     },
     "metadata": {},
     "output_type": "display_data"
    }
   ],
   "source": [
    "console.print(table)"
   ]
  },
  {
   "cell_type": "markdown",
   "metadata": {},
   "source": [
    "### 例2.2\n",
    "数据同例2.1, 正样本点是$x_1 = (3,3)^T$, $x_2 = (4,3)^T$, 负样本点是$x_3 = (1,1)^T$, 试用感知机学习算法对偶形式求感知机模型"
   ]
  },
  {
   "cell_type": "code",
   "execution_count": 13,
   "metadata": {},
   "outputs": [],
   "source": [
    "alpha = np.zeros((1, 3))\n",
    "b = 0\n",
    "eta = 1\n",
    "y = np.array([1, 1, -1])"
   ]
  },
  {
   "cell_type": "code",
   "execution_count": 14,
   "metadata": {},
   "outputs": [
    {
     "data": {
      "text/plain": [
       "0.0"
      ]
     },
     "execution_count": 14,
     "metadata": {},
     "output_type": "execute_result"
    }
   ],
   "source": [
    "alpha[0,1]"
   ]
  },
  {
   "cell_type": "code",
   "execution_count": 15,
   "metadata": {},
   "outputs": [],
   "source": [
    "gram = np.array([(3, 3), (4, 3), (1, 1)])\n",
    "gram = np.dot(gram, gram.T)"
   ]
  },
  {
   "cell_type": "code",
   "execution_count": 16,
   "metadata": {},
   "outputs": [
    {
     "data": {
      "text/plain": [
       "array([18, 21,  6])"
      ]
     },
     "execution_count": 16,
     "metadata": {},
     "output_type": "execute_result"
    }
   ],
   "source": [
    "gram[0,:]"
   ]
  },
  {
   "cell_type": "code",
   "execution_count": 17,
   "metadata": {},
   "outputs": [],
   "source": [
    "def f(ind):\n",
    "    return (alpha * gram[ind,:] + b).sum()"
   ]
  },
  {
   "cell_type": "code",
   "execution_count": 18,
   "metadata": {},
   "outputs": [],
   "source": [
    "table = Table()\n",
    "table.add_column('k')\n",
    "table.add_column(' ')\n",
    "table.add_column('a1')\n",
    "table.add_column('a2')\n",
    "table.add_column('a3')\n",
    "table.add_column('b')\n",
    "table.add_row('0', ' ', '0', '0', '0', '0')"
   ]
  },
  {
   "cell_type": "code",
   "execution_count": 19,
   "metadata": {},
   "outputs": [],
   "source": [
    "k = 1\n",
    "for ind in [0, 2, 2, 2, 0, 2, 2]:\n",
    "    # 预测是否为正\n",
    "    c = f(ind)\n",
    "    # 计算损失\n",
    "    l = y[ind] * c\n",
    "    # 如果错误分类\n",
    "    if l <= 0:\n",
    "        alpha[0, ind] += 1\n",
    "        b += y[ind]\n",
    "    table.add_row(str(k), str(ind+1), f'{alpha[0, 0]}', f'{alpha[0, 1]}', f'{alpha[0, 2]}', str(b))\n",
    "    k += 1"
   ]
  },
  {
   "cell_type": "code",
   "execution_count": 20,
   "metadata": {},
   "outputs": [
    {
     "data": {
      "text/html": [
       "<pre style=\"white-space:pre;overflow-x:auto;line-height:normal;font-family:Menlo,'DejaVu Sans Mono',consolas,'Courier New',monospace\">┏━━━┳━━━┳━━━━━┳━━━━━┳━━━━━┳━━━━┓\n",
       "┃<span style=\"font-weight: bold\"> k </span>┃<span style=\"font-weight: bold\">   </span>┃<span style=\"font-weight: bold\"> a1  </span>┃<span style=\"font-weight: bold\"> a2  </span>┃<span style=\"font-weight: bold\"> a3  </span>┃<span style=\"font-weight: bold\"> b  </span>┃\n",
       "┡━━━╇━━━╇━━━━━╇━━━━━╇━━━━━╇━━━━┩\n",
       "│ 0 │   │ 0   │ 0   │ 0   │ 0  │\n",
       "│ 1 │ 1 │ 1.0 │ 0.0 │ 0.0 │ 1  │\n",
       "│ 2 │ 3 │ 1.0 │ 0.0 │ 1.0 │ 0  │\n",
       "│ 3 │ 3 │ 1.0 │ 0.0 │ 2.0 │ -1 │\n",
       "│ 4 │ 3 │ 1.0 │ 0.0 │ 3.0 │ -2 │\n",
       "│ 5 │ 1 │ 1.0 │ 0.0 │ 3.0 │ -2 │\n",
       "│ 6 │ 3 │ 1.0 │ 0.0 │ 4.0 │ -3 │\n",
       "│ 7 │ 3 │ 1.0 │ 0.0 │ 5.0 │ -4 │\n",
       "└───┴───┴─────┴─────┴─────┴────┘\n",
       "</pre>\n"
      ],
      "text/plain": [
       "┏━━━┳━━━┳━━━━━┳━━━━━┳━━━━━┳━━━━┓\n",
       "┃\u001b[1m \u001b[0m\u001b[1mk\u001b[0m\u001b[1m \u001b[0m┃\u001b[1m \u001b[0m\u001b[1m \u001b[0m\u001b[1m \u001b[0m┃\u001b[1m \u001b[0m\u001b[1ma1 \u001b[0m\u001b[1m \u001b[0m┃\u001b[1m \u001b[0m\u001b[1ma2 \u001b[0m\u001b[1m \u001b[0m┃\u001b[1m \u001b[0m\u001b[1ma3 \u001b[0m\u001b[1m \u001b[0m┃\u001b[1m \u001b[0m\u001b[1mb \u001b[0m\u001b[1m \u001b[0m┃\n",
       "┡━━━╇━━━╇━━━━━╇━━━━━╇━━━━━╇━━━━┩\n",
       "│ 0 │   │ 0   │ 0   │ 0   │ 0  │\n",
       "│ 1 │ 1 │ 1.0 │ 0.0 │ 0.0 │ 1  │\n",
       "│ 2 │ 3 │ 1.0 │ 0.0 │ 1.0 │ 0  │\n",
       "│ 3 │ 3 │ 1.0 │ 0.0 │ 2.0 │ -1 │\n",
       "│ 4 │ 3 │ 1.0 │ 0.0 │ 3.0 │ -2 │\n",
       "│ 5 │ 1 │ 1.0 │ 0.0 │ 3.0 │ -2 │\n",
       "│ 6 │ 3 │ 1.0 │ 0.0 │ 4.0 │ -3 │\n",
       "│ 7 │ 3 │ 1.0 │ 0.0 │ 5.0 │ -4 │\n",
       "└───┴───┴─────┴─────┴─────┴────┘\n"
      ]
     },
     "metadata": {},
     "output_type": "display_data"
    }
   ],
   "source": [
    "console.print(table)"
   ]
  },
  {
   "cell_type": "markdown",
   "metadata": {},
   "source": [
    "## 习题"
   ]
  },
  {
   "cell_type": "markdown",
   "metadata": {},
   "source": [
    "### 2.3 证明：样本线性可分对充分必要条件是正实例点集所构成的凸壳与负实例点集所构成的凸壳互不相交"
   ]
  },
  {
   "cell_type": "markdown",
   "metadata": {},
   "source": [
    "要证明样本线性可分对充分必要条件是正实例点集所构成的凸壳与负实例点集所构成的凸壳互不相交，我们首先需要定义一些概念：\n",
    "\n",
    "1. **线性可分**：如果存在一个超平面，能够将两类数据点完全正确地分隔开，那么称这两个类别是线性可分的。\n",
    "\n",
    "2. **凸壳（Convex Hull）**：一组点的凸壳是包含这些点的最小凸多边形或多面体。\n",
    "\n",
    "3. **正实例点集**：属于正类的样本点集合。\n",
    "\n",
    "4. **负实例点集**：属于负类的样本点集合。\n",
    "\n",
    "#### 证明：\n",
    "\n",
    "**必要性**（如果样本线性可分，则正负实例点集的凸壳互不相交）：\n",
    "\n",
    "假设样本是线性可分的，那么存在一个超平面可以将正实例点集和负实例点集完全分隔开。由于超平面将空间分成两个半空间，正实例点集和负实例点集分别位于超平面的两侧，它们不可能有任何交集。\n",
    "\n",
    "由于凸壳是包含所有点的最小凸多边形，如果正负实例点集是线性可分的，那么它们的凸壳也必须位于超平面的两侧，因此它们的凸壳也不可能相交。\n",
    "\n",
    "**充分性**（如果正负实例点集的凸壳互不相交，则样本线性可分）：\n",
    "\n",
    "假设正实例点集的凸壳与负实例点集的凸壳互不相交。由于凸壳是点集在空间中的边界，如果凸壳不相交，那么整个正负实例点集也不可能相交。这意味着我们可以找到一个超平面，它可以通过正负实例点集凸壳之间的空隙，从而将正负实例点集分隔开。\n",
    "\n",
    "由于凸壳包含了所有点集中最外围的点，如果凸壳不相交，那么不存在任何一个点位于另一个点集的区域内，因此整个点集也是线性可分的。\n",
    "\n",
    "#### 结论：\n",
    "\n",
    "因此，样本线性可分的充分必要条件是正实例点集所构成的凸壳与负实例点集所构成的凸壳互不相交。\n",
    "\n",
    "这个证明基于凸壳的性质和线性可分的定义。在实际应用中，如果样本点集的凸壳相交，我们可能需要考虑更复杂的模型或者采用核技巧等方法来处理非线性可分的情况。\n"
   ]
  },
  {
   "cell_type": "markdown",
   "metadata": {},
   "source": [
    "### 2.1 证明感知机无法表示异或\n",
    "\n",
    "感知机是一种线性二分类模型，它通过一个线性超平面来分隔两个类别。感知机模型的数学表达式可以写为：\n",
    "\n",
    "$$\n",
    "\\begin{equation}\n",
    "f(x)=\\left\\{\n",
    "\\begin{aligned}\n",
    "1 &  & if \\ \\mathbf{w} & \\cdot \\mathbf{x} + b \\geqslant 0\\\\\n",
    "0 &  & if \\ \\mathbf{w} & \\cdot \\mathbf{x} + b < 0\\\\\n",
    "\\end{aligned}\n",
    "\\right.\n",
    "\\end{equation}\n",
    "$$\n",
    "\n",
    "其中，$\\mathbf{w}$ 是权重向量，$b$ 是偏置项，$\\mathbf{x}$ 是输入向量。\n",
    "\n",
    "#### 异或函数（XOR）\n",
    "\n",
    "异或（XOR）函数是一种二元逻辑运算，它的输出仅当输入的两个比特位不相同时才为1。对于二维输入 $(x_1, x_2)$，XOR函数可以表示为：\n",
    "\n",
    "$$ f(x_1, x_2) = x_1 \\oplus x_2 $$\n",
    "\n",
    "它的真值表如下：\n",
    "\n",
    "\n",
    "\\begin{array}{cc|c}\n",
    "x_1 & x_2 & f(x_1, x_2) \\\\\n",
    "\\hline\n",
    "0 & 0 & 0 \\\\\n",
    "0 & 1 & 1 \\\\\n",
    "1 & 0 & 1 \\\\\n",
    "1 & 1 & 0 \\\\\n",
    "\\end{array}\n",
    "\n",
    "\n",
    "#### 证明感知机无法表示异或\n",
    "\n",
    "1. **线性不可分性**：异或函数是一个非线性函数，因为它不能通过任何线性超平面来分隔不同的类别。在异或函数的真值表中，我们可以看到，没有一条直线可以将输出为1的点与输出为0的点分开。\n",
    "\n",
    "2. **反证法**：假设存在一个感知机可以表示异或函数，那么它必须能够正确分类真值表中的所有点。考虑以下两个点：\n",
    "   - $(x_1, x_2) = (0, 0)$ 和 $(0, 1)$，它们的输出应该不同。\n",
    "   - $(x_1, x_2) = (1, 0)$ 和 $(1, 1)$，它们的输出也应该不同。\n",
    "\n",
    "   如果感知机能够正确分类这些点，那么它必须对 $(0, 0)$ 和 $(1, 1)$ 给出相同的输出，同时对 $(0, 1)$ 和 $(1, 0)$ 给出相同的输出。这意味着感知机必须对 $x_1$ 和 $x_2$ 赋予相同的权重，并且对它们进行异或运算，这与感知机的线性特性相矛盾。\n",
    "\n",
    "3. **权重和偏置**：假设感知机的决策函数为 $\\mathbf{w} \\cdot \\mathbf{x} + b$，其中 $\\mathbf{w} = (w_1, w_2)$ 和 $\\mathbf{x} = (x_1, x_2)$。为了使感知机能够表示异或函数，我们需要：\n",
    "   - $w_1 x_1 + w_2 x_2 + b \\geq 0$ 当 $x_1 \\oplus x_2 = 0$\n",
    "   - $w_1 x_1 + w_2 x_2 + b < 0$ 当 $x_1 \\oplus x_2 = 1$\n",
    "\n",
    "   但是，这组不等式组没有解，因为它们相互矛盾。\n",
    "\n",
    "#### 结论\n",
    "\n",
    "由于异或函数的输出不能通过线性超平面来区分，所以感知机无法表示异或函数。这也是为什么在神经网络中需要使用非线性激活函数来处理这类非线性问题。\n"
   ]
  },
  {
   "cell_type": "code",
   "execution_count": null,
   "metadata": {},
   "outputs": [],
   "source": []
  },
  {
   "cell_type": "code",
   "execution_count": null,
   "metadata": {},
   "outputs": [],
   "source": []
  },
  {
   "cell_type": "code",
   "execution_count": null,
   "metadata": {},
   "outputs": [],
   "source": []
  },
  {
   "cell_type": "markdown",
   "metadata": {},
   "source": []
  }
 ],
 "metadata": {
  "kernelspec": {
   "display_name": "base",
   "language": "python",
   "name": "python3"
  },
  "language_info": {
   "codemirror_mode": {
    "name": "ipython",
    "version": 3
   },
   "file_extension": ".py",
   "mimetype": "text/x-python",
   "name": "python",
   "nbconvert_exporter": "python",
   "pygments_lexer": "ipython3",
   "version": "3.12.2"
  }
 },
 "nbformat": 4,
 "nbformat_minor": 2
}
