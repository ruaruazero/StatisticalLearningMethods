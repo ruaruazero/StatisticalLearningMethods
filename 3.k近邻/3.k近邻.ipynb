{
 "cells": [
  {
   "cell_type": "code",
   "execution_count": 1,
   "metadata": {},
   "outputs": [],
   "source": [
    "import numpy as np"
   ]
  },
  {
   "cell_type": "markdown",
   "metadata": {},
   "source": [
    "## 距离度量"
   ]
  },
  {
   "cell_type": "markdown",
   "metadata": {},
   "source": [
    "### 例3.1\n",
    "已知二维空间中的3个点 $x_1 = (1, 1)^T$，$x_2=(5, 1)^T$，$x_3=(4, 4)^T$，试求在 $p$ 取不同值时，$L_p$距离下$x_1$的最近邻点"
   ]
  },
  {
   "cell_type": "code",
   "execution_count": 2,
   "metadata": {},
   "outputs": [],
   "source": [
    "x1 = np.array((1, 1))\n",
    "x2 = np.array((5, 1))\n",
    "x3 = np.array((4, 4))"
   ]
  },
  {
   "cell_type": "code",
   "execution_count": 3,
   "metadata": {},
   "outputs": [],
   "source": [
    "def distance(p1, p2, p):\n",
    "    return (np.abs(p1 - p2) ** p).sum() ** (1 / p)"
   ]
  },
  {
   "cell_type": "code",
   "execution_count": 4,
   "metadata": {},
   "outputs": [
    {
     "data": {
      "text/plain": [
       "'x1和x2的距离始终为4.0, x1和x3的p=1距离为6.0, x1和x3的p=2距离为4.242640687119285, x1和x3的p=3距离为3.7797631496846193, x1和x3的p=4距离为3.5676213450081633'"
      ]
     },
     "execution_count": 4,
     "metadata": {},
     "output_type": "execute_result"
    }
   ],
   "source": [
    "str = f'x1和x2的距离始终为{distance(x1, x2, 1)}, x1和x3的p=1距离为{distance(x1, x3, 1)}, x1和x3的p=2距离为{distance(x1, x3, 2)}, x1和x3的p=3距离为{distance(x1, x3, 3)}, x1和x3的p=4距离为{distance(x1, x3, 4)}'\n",
    "str"
   ]
  },
  {
   "cell_type": "markdown",
   "metadata": {},
   "source": [
    "### 例3.2\n",
    "给定一个二维空间的数据集：\n",
    "$$T=\\{(2, 3)^T, (5, 4)^T, (9, 6)^T, (4, 7)^T, (8, 1)^T, (7, 2)^T\\}$$\n",
    "构造一个平衡kd树"
   ]
  },
  {
   "cell_type": "code",
   "execution_count": 5,
   "metadata": {},
   "outputs": [],
   "source": [
    "# 使用类似链表的结构存储信息\n",
    "from build_tree import kd_tree"
   ]
  },
  {
   "cell_type": "code",
   "execution_count": 6,
   "metadata": {},
   "outputs": [],
   "source": [
    "T = np.array([\n",
    "    [2, 5, 9, 4, 8, 7],\n",
    "    [3, 4, 6, 7, 1, 2]\n",
    "])"
   ]
  },
  {
   "cell_type": "code",
   "execution_count": 7,
   "metadata": {},
   "outputs": [],
   "source": [
    "tre = kd_tree(T)"
   ]
  },
  {
   "cell_type": "code",
   "execution_count": 8,
   "metadata": {},
   "outputs": [
    {
     "data": {
      "text/plain": [
       "0"
      ]
     },
     "execution_count": 8,
     "metadata": {},
     "output_type": "execute_result"
    }
   ],
   "source": [
    "tre.dim"
   ]
  },
  {
   "cell_type": "markdown",
   "metadata": {},
   "source": [
    "### 例3.2\n",
    "给定一个如图3.5所示的kd树，根结点为A，其子节点为B，C等。树上共存储七个实例点；另外有一个输入目标实例点S，求S的最近邻。"
   ]
  },
  {
   "cell_type": "code",
   "execution_count": 9,
   "metadata": {},
   "outputs": [],
   "source": [
    "from search import nearest_search"
   ]
  },
  {
   "cell_type": "code",
   "execution_count": 14,
   "metadata": {},
   "outputs": [
    {
     "data": {
      "text/plain": [
       "(5, 4)"
      ]
     },
     "execution_count": 14,
     "metadata": {},
     "output_type": "execute_result"
    }
   ],
   "source": [
    "t = nearest_search(tre, (4, 5))\n",
    "t.data"
   ]
  },
  {
   "cell_type": "markdown",
   "metadata": {},
   "source": [
    "### 习题"
   ]
  },
  {
   "cell_type": "markdown",
   "metadata": {},
   "source": [
    "#### 3.2 利用例3.2中构建的kd树求$x=(3, 4.5)^T$的最近邻点"
   ]
  },
  {
   "cell_type": "code",
   "execution_count": 15,
   "metadata": {},
   "outputs": [
    {
     "data": {
      "text/plain": [
       "(2, 3)"
      ]
     },
     "execution_count": 15,
     "metadata": {},
     "output_type": "execute_result"
    }
   ],
   "source": [
    "nearest_search(tre, (3, 4.5)).data"
   ]
  },
  {
   "cell_type": "code",
   "execution_count": null,
   "metadata": {},
   "outputs": [],
   "source": []
  }
 ],
 "metadata": {
  "kernelspec": {
   "display_name": "base",
   "language": "python",
   "name": "python3"
  },
  "language_info": {
   "codemirror_mode": {
    "name": "ipython",
    "version": 3
   },
   "file_extension": ".py",
   "mimetype": "text/x-python",
   "name": "python",
   "nbconvert_exporter": "python",
   "pygments_lexer": "ipython3",
   "version": "3.12.2"
  }
 },
 "nbformat": 4,
 "nbformat_minor": 2
}
